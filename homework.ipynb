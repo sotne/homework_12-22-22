{
 "cells": [
  {
   "cell_type": "markdown",
   "id": "957856aa",
   "metadata": {},
   "source": [
    "# Exercises"
   ]
  },
  {
   "cell_type": "markdown",
   "id": "7c9de38d",
   "metadata": {},
   "source": [
    "### Exercise #1 <br>\n",
    "<p>Reverse the list below in-place using an in-place algorithm.<br>For extra credit: Reverse the strings at the same time.</p>"
   ]
  },
  {
   "cell_type": "code",
   "execution_count": null,
   "id": "9572d2ae",
   "metadata": {},
   "outputs": [],
   "source": [
    "words = ['this' , 'is', 'a', 'sentence', '.']\n",
    "\n",
    "#output = ['.', 'sentence', 'a', 'is', 'this']\n",
    "#bonus = ['.', 'ecnters', 'a', 'si', 'siht']"
   ]
  },
  {
   "cell_type": "code",
   "execution_count": null,
   "id": "84ea6e1e",
   "metadata": {},
   "outputs": [],
   "source": [
    "def reverse(lst):\n",
    "    left = 0\n",
    "    right = len(lst) -1\n",
    "    while left < right:\n",
    "        lst[left], lst[right] = lst[right], lst[left]\n",
    "        left+=1\n",
    "        right-=1\n",
    "\n",
    "words = ['this' , 'is', 'a', 'sentence', '.']\n",
    "reverse(words)\n",
    "print(words)"
   ]
  },
  {
   "cell_type": "code",
   "execution_count": null,
   "id": "30c23266",
   "metadata": {},
   "outputs": [],
   "source": [
    "# def reverse(lst):\n",
    "#     left = 0\n",
    "#     right = len(lst) -1\n",
    "#     while left < right:\n",
    "#         lst[left], lst[right] = lst[right], lst[left]\n",
    "#         left+=1\n",
    "#         right-=1\n",
    "\n",
    "        \n",
    "# words = ['this' , 'is', 'a', 'sentence', '.']\n",
    "# reverse(words)\n",
    "# print(words)"
   ]
  },
  {
   "cell_type": "markdown",
   "id": "e68eb2ca",
   "metadata": {},
   "source": [
    "### Exercise #2 <br>\n",
    "<p>Create a function that counts how many distinct words are in the string below, then outputs a dictionary with the words as the key and the value as the amount of times that word appears in the string.</p>\n",
    "Example Output:<code>{'in': 1, 'computing': 1, 'a': 5, ...}</code>"
   ]
  },
  {
   "cell_type": "code",
   "execution_count": null,
   "id": "7c5c3b38",
   "metadata": {},
   "outputs": [],
   "source": [
    "a_text = 'In computing, a hash table hash map is a data structure which implements an associative array abstract data type, a structure that can map keys to values. A hash table uses a hash function to compute an index into an array of buckets or slots from which the desired value can be found'\n",
    "#something in collections can do\n",
    "#do your own code\n"
   ]
  },
  {
   "cell_type": "code",
   "execution_count": null,
   "id": "c917d9b2",
   "metadata": {},
   "outputs": [],
   "source": [
    "import re"
   ]
  },
  {
   "cell_type": "code",
   "execution_count": null,
   "id": "dbc2928f",
   "metadata": {},
   "outputs": [],
   "source": [
    "# words = re.findall(r'\\w+',  a_text.lower())\n",
    "# print(words)\n",
    "# occurance= {}\n",
    "# def count_words(sentence):\n",
    "#     words = re.findall(r'\\w+',  a_text.lower())\n",
    "#     for word in sentence:\n",
    "#             if word in occurance:\n",
    "#                 key\n",
    "word_pattern = re.compile('\\w+')\n",
    "sentence = word_pattern.findall(a_text)\n",
    "def count_words(sentence):\n",
    "    occurance= {}\n",
    "    for word[] in sentence:\n",
    "        while word == occurance:\n",
    "            occurance.update({word: +1})        \n",
    "        if word != occurance:\n",
    "            occurance[word] = 1           \n",
    "        return word\n",
    "\n",
    "count_words(a_text)\n",
    "print(occurance)"
   ]
  },
  {
   "cell_type": "markdown",
   "id": "aeb9625a",
   "metadata": {},
   "source": [
    "## Exercise #3\n",
    "\n",
    "Write a function implementing a Linear Search Algorithm. A linear search is a method for finding an element within a list. It sequentially checks each element of the list until a match is found or the whole list has been searched. If you do not find a match, return -1"
   ]
  },
  {
   "cell_type": "code",
   "execution_count": 2,
   "id": "91de740f",
   "metadata": {},
   "outputs": [],
   "source": [
    "nums_list = [10, 11, 15, 23, 45, 70]\n",
    "# target = 70\n",
    "\n",
    "# If number is not present return -1"
   ]
  },
  {
   "cell_type": "code",
   "execution_count": 7,
   "id": "b264bc67",
   "metadata": {},
   "outputs": [
    {
     "data": {
      "text/plain": [
       "' the index for 70 is 5'"
      ]
     },
     "execution_count": 7,
     "metadata": {},
     "output_type": "execute_result"
    }
   ],
   "source": [
    " def fnd_num(lst, target):\n",
    "        low = 0 \n",
    "        high = len(lst)\n",
    "        while low <= high:\n",
    "            if target == lst[low]:\n",
    "                return f' the index for {target} is {low}'\n",
    "                break\n",
    "            else:\n",
    "                low += 1\n",
    "                \n",
    "        return -1\n",
    " \n",
    "fnd_num(nums_list, 70)\n"
   ]
  },
  {
   "cell_type": "code",
   "execution_count": null,
   "id": "575a59bb",
   "metadata": {},
   "outputs": [],
   "source": []
  }
 ],
 "metadata": {
  "kernelspec": {
   "display_name": "Python 3 (ipykernel)",
   "language": "python",
   "name": "python3"
  },
  "language_info": {
   "codemirror_mode": {
    "name": "ipython",
    "version": 3
   },
   "file_extension": ".py",
   "mimetype": "text/x-python",
   "name": "python",
   "nbconvert_exporter": "python",
   "pygments_lexer": "ipython3",
   "version": "3.9.12"
  }
 },
 "nbformat": 4,
 "nbformat_minor": 5
}
